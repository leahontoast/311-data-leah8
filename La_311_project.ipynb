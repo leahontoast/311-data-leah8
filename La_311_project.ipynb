{
 "cells": [
  {
   "cell_type": "code",
   "execution_count": 29,
   "metadata": {},
   "outputs": [],
   "source": [
    "# This notebook will analyze the LA 311 data using pandas libraries and altair \n",
    "# The LA 2023 311 data is stored on my computer in ~/code/data/MyLA311_Service_Request_Data_2023_20250116.csv\n",
    "# The LA 2024 data is /Users/leahharrison/code/data/MyLA311_Data_2024_20250128.csv\n",
    "# The LA 2025 data is /Users/leahharrison/code/data/MyLA311_Data_2025_20250128.csv\n",
    "\n",
    "# A subset of the data that includes just the first 1,000 rows is at  ~code/data/311_first_1000.csv\n",
    "# data dictionary is here https://data.lacity.org/City-Infrastructure-Service-Requests/MyLA311-Service-Request-Data-2022/i5ke-k6by/about_data"
   ]
  },
  {
   "cell_type": "code",
   "execution_count": null,
   "metadata": {},
   "outputs": [],
   "source": [
    "# I added the LA data from 2024 and 2025 into the googledrive, but I couldn't get python to read directly from there \n",
    "# this didn't work, but it was an attempt to link to the LA data directly in the googledrive\n",
    "# la_2023_data = pd.read_csv(\"https://drive.google.com/file/d/1sYTIXIV4xvdgLW2NS-_Mrl72aPd7-VzA/view?usp=drive_link\")\n",
    "\n",
    "# la_2024_data = pd.read_csv(\"https://drive.google.com/file/d/161juFILT8fKc2bs_Yc0dy3GcIdexPhFV/view?usp=drive_link\")\n",
    "\n",
    "# la_2025_data = pd.read_csv(\"https://drive.google.com/file/d/16ODnCEXB52xv096EHZC3HgLmvwSO0kA9/view?usp=drive_link\")"
   ]
  },
  {
   "cell_type": "code",
   "execution_count": 2,
   "metadata": {},
   "outputs": [],
   "source": [
    "import pandas as pd\n"
   ]
  },
  {
   "cell_type": "code",
   "execution_count": 3,
   "metadata": {},
   "outputs": [],
   "source": [
    "# saving the csv of the first 1,000 lines in a variable so it's a more accessible pandas dataframe \n",
    "\n",
    "first_1000_lines = pd.read_csv(\"~/code/data/311_first_1000.csv\")"
   ]
  },
  {
   "cell_type": "code",
   "execution_count": null,
   "metadata": {},
   "outputs": [],
   "source": [
    "# preview the first 8 lines with the \"head\" method \n",
    "first_1000_lines.head(8)\n",
    "                               #if you leave the () blank you'll get 5 lines "
   ]
  },
  {
   "cell_type": "code",
   "execution_count": null,
   "metadata": {},
   "outputs": [],
   "source": []
  },
  {
   "cell_type": "markdown",
   "metadata": {},
   "source": []
  },
  {
   "cell_type": "markdown",
   "metadata": {},
   "source": []
  },
  {
   "cell_type": "code",
   "execution_count": null,
   "metadata": {},
   "outputs": [],
   "source": [
    "# look at the all of the columns and what type of data they store with the \"info\" method\n",
    "first_1000_lines.info()"
   ]
  },
  {
   "cell_type": "code",
   "execution_count": null,
   "metadata": {},
   "outputs": [],
   "source": [
    "# focus on the column for request type\n",
    "first_1000_lines[\"RequestType\"]\n"
   ]
  },
  {
   "cell_type": "code",
   "execution_count": null,
   "metadata": {},
   "outputs": [],
   "source": [
    "# frequency of values in a column\n",
    "first_1000_lines[\"RequestType\"].value_counts()"
   ]
  },
  {
   "cell_type": "code",
   "execution_count": null,
   "metadata": {},
   "outputs": [],
   "source": [
    "# are any still open? \n",
    "first_1000_lines[\"Status\"].value_counts()"
   ]
  },
  {
   "cell_type": "code",
   "execution_count": 9,
   "metadata": {},
   "outputs": [],
   "source": [
    "# investigate open, referred out, pending and canceled requests \n",
    "# save these statuses as variables \n",
    "\n",
    "status_cancelled = \"Cancelled\"\n",
    "status_pending = \"Pending\"\n",
    "status_referred_out = \"Referred Out\"\n",
    "status_open = \"Open\""
   ]
  },
  {
   "cell_type": "code",
   "execution_count": null,
   "metadata": {},
   "outputs": [],
   "source": [
    "# look at the list for certain request types \n",
    "first_1000_lines[first_1000_lines[\"Status\"] == status_open]"
   ]
  },
  {
   "cell_type": "code",
   "execution_count": null,
   "metadata": {},
   "outputs": [],
   "source": [
    "first_1000_lines[first_1000_lines[\"Status\"] == status_pending]"
   ]
  },
  {
   "cell_type": "code",
   "execution_count": null,
   "metadata": {},
   "outputs": [],
   "source": [
    "first_1000_lines[first_1000_lines[\"Status\"] == status_cancelled]"
   ]
  },
  {
   "cell_type": "code",
   "execution_count": null,
   "metadata": {},
   "outputs": [],
   "source": [
    "# focus on the column for zip code\n",
    "first_1000_lines[\"ZipCode\"]"
   ]
  },
  {
   "cell_type": "code",
   "execution_count": null,
   "metadata": {},
   "outputs": [],
   "source": [
    "# frequency of values in a column\n",
    "first_1000_lines[\"ZipCode\"].value_counts()"
   ]
  },
  {
   "cell_type": "code",
   "execution_count": null,
   "metadata": {},
   "outputs": [],
   "source": [
    "first_1000_lines.groupby(\"ZipCode\").size()"
   ]
  },
  {
   "cell_type": "code",
   "execution_count": null,
   "metadata": {},
   "outputs": [],
   "source": [
    "full_file = pd.read_csv(\"~/code/data/MyLA311_Service_Request_Data_2023_20250116.csv\")"
   ]
  },
  {
   "cell_type": "code",
   "execution_count": 17,
   "metadata": {},
   "outputs": [],
   "source": [
    "# abandoning this effort to read the whole file because of datatype error in col 21,25"
   ]
  },
  {
   "cell_type": "code",
   "execution_count": null,
   "metadata": {},
   "outputs": [],
   "source": [
    "first_100K_reader = pd.read_csv(\"~/code/data/100k.csv\")"
   ]
  },
  {
   "cell_type": "code",
   "execution_count": null,
   "metadata": {},
   "outputs": [],
   "source": [
    "last_100K_reader = pd.read_csv(\"~/code/data/last100k.csv\")"
   ]
  },
  {
   "cell_type": "code",
   "execution_count": null,
   "metadata": {},
   "outputs": [
    {
     "ename": "ParserError",
     "evalue": "Error tokenizing data. C error: Expected 1 fields in line 3, saw 2473\n",
     "output_type": "error",
     "traceback": [
      "\u001b[0;31m---------------------------------------------------------------------------\u001b[0m",
      "\u001b[0;31mParserError\u001b[0m                               Traceback (most recent call last)",
      "Cell \u001b[0;32mIn[25], line 1\u001b[0m\n\u001b[0;32m----> 1\u001b[0m la_2023_data \u001b[38;5;241m=\u001b[39m \u001b[43mpd\u001b[49m\u001b[38;5;241;43m.\u001b[39;49m\u001b[43mread_csv\u001b[49m\u001b[43m(\u001b[49m\u001b[38;5;124;43m\"\u001b[39;49m\u001b[38;5;124;43mhttps://drive.google.com/file/d/1sYTIXIV4xvdgLW2NS-_Mrl72aPd7-VzA/view?usp=drive_link\u001b[39;49m\u001b[38;5;124;43m\"\u001b[39;49m\u001b[43m)\u001b[49m\n",
      "File \u001b[0;32m~/code/311-data-leah8/.venv/lib/python3.12/site-packages/pandas/io/parsers/readers.py:1026\u001b[0m, in \u001b[0;36mread_csv\u001b[0;34m(filepath_or_buffer, sep, delimiter, header, names, index_col, usecols, dtype, engine, converters, true_values, false_values, skipinitialspace, skiprows, skipfooter, nrows, na_values, keep_default_na, na_filter, verbose, skip_blank_lines, parse_dates, infer_datetime_format, keep_date_col, date_parser, date_format, dayfirst, cache_dates, iterator, chunksize, compression, thousands, decimal, lineterminator, quotechar, quoting, doublequote, escapechar, comment, encoding, encoding_errors, dialect, on_bad_lines, delim_whitespace, low_memory, memory_map, float_precision, storage_options, dtype_backend)\u001b[0m\n\u001b[1;32m   1013\u001b[0m kwds_defaults \u001b[38;5;241m=\u001b[39m _refine_defaults_read(\n\u001b[1;32m   1014\u001b[0m     dialect,\n\u001b[1;32m   1015\u001b[0m     delimiter,\n\u001b[0;32m   (...)\u001b[0m\n\u001b[1;32m   1022\u001b[0m     dtype_backend\u001b[38;5;241m=\u001b[39mdtype_backend,\n\u001b[1;32m   1023\u001b[0m )\n\u001b[1;32m   1024\u001b[0m kwds\u001b[38;5;241m.\u001b[39mupdate(kwds_defaults)\n\u001b[0;32m-> 1026\u001b[0m \u001b[38;5;28;01mreturn\u001b[39;00m \u001b[43m_read\u001b[49m\u001b[43m(\u001b[49m\u001b[43mfilepath_or_buffer\u001b[49m\u001b[43m,\u001b[49m\u001b[43m \u001b[49m\u001b[43mkwds\u001b[49m\u001b[43m)\u001b[49m\n",
      "File \u001b[0;32m~/code/311-data-leah8/.venv/lib/python3.12/site-packages/pandas/io/parsers/readers.py:626\u001b[0m, in \u001b[0;36m_read\u001b[0;34m(filepath_or_buffer, kwds)\u001b[0m\n\u001b[1;32m    623\u001b[0m     \u001b[38;5;28;01mreturn\u001b[39;00m parser\n\u001b[1;32m    625\u001b[0m \u001b[38;5;28;01mwith\u001b[39;00m parser:\n\u001b[0;32m--> 626\u001b[0m     \u001b[38;5;28;01mreturn\u001b[39;00m \u001b[43mparser\u001b[49m\u001b[38;5;241;43m.\u001b[39;49m\u001b[43mread\u001b[49m\u001b[43m(\u001b[49m\u001b[43mnrows\u001b[49m\u001b[43m)\u001b[49m\n",
      "File \u001b[0;32m~/code/311-data-leah8/.venv/lib/python3.12/site-packages/pandas/io/parsers/readers.py:1923\u001b[0m, in \u001b[0;36mTextFileReader.read\u001b[0;34m(self, nrows)\u001b[0m\n\u001b[1;32m   1916\u001b[0m nrows \u001b[38;5;241m=\u001b[39m validate_integer(\u001b[38;5;124m\"\u001b[39m\u001b[38;5;124mnrows\u001b[39m\u001b[38;5;124m\"\u001b[39m, nrows)\n\u001b[1;32m   1917\u001b[0m \u001b[38;5;28;01mtry\u001b[39;00m:\n\u001b[1;32m   1918\u001b[0m     \u001b[38;5;66;03m# error: \"ParserBase\" has no attribute \"read\"\u001b[39;00m\n\u001b[1;32m   1919\u001b[0m     (\n\u001b[1;32m   1920\u001b[0m         index,\n\u001b[1;32m   1921\u001b[0m         columns,\n\u001b[1;32m   1922\u001b[0m         col_dict,\n\u001b[0;32m-> 1923\u001b[0m     ) \u001b[38;5;241m=\u001b[39m \u001b[38;5;28;43mself\u001b[39;49m\u001b[38;5;241;43m.\u001b[39;49m\u001b[43m_engine\u001b[49m\u001b[38;5;241;43m.\u001b[39;49m\u001b[43mread\u001b[49m\u001b[43m(\u001b[49m\u001b[43m  \u001b[49m\u001b[38;5;66;43;03m# type: ignore[attr-defined]\u001b[39;49;00m\n\u001b[1;32m   1924\u001b[0m \u001b[43m        \u001b[49m\u001b[43mnrows\u001b[49m\n\u001b[1;32m   1925\u001b[0m \u001b[43m    \u001b[49m\u001b[43m)\u001b[49m\n\u001b[1;32m   1926\u001b[0m \u001b[38;5;28;01mexcept\u001b[39;00m \u001b[38;5;167;01mException\u001b[39;00m:\n\u001b[1;32m   1927\u001b[0m     \u001b[38;5;28mself\u001b[39m\u001b[38;5;241m.\u001b[39mclose()\n",
      "File \u001b[0;32m~/code/311-data-leah8/.venv/lib/python3.12/site-packages/pandas/io/parsers/c_parser_wrapper.py:234\u001b[0m, in \u001b[0;36mCParserWrapper.read\u001b[0;34m(self, nrows)\u001b[0m\n\u001b[1;32m    232\u001b[0m \u001b[38;5;28;01mtry\u001b[39;00m:\n\u001b[1;32m    233\u001b[0m     \u001b[38;5;28;01mif\u001b[39;00m \u001b[38;5;28mself\u001b[39m\u001b[38;5;241m.\u001b[39mlow_memory:\n\u001b[0;32m--> 234\u001b[0m         chunks \u001b[38;5;241m=\u001b[39m \u001b[38;5;28;43mself\u001b[39;49m\u001b[38;5;241;43m.\u001b[39;49m\u001b[43m_reader\u001b[49m\u001b[38;5;241;43m.\u001b[39;49m\u001b[43mread_low_memory\u001b[49m\u001b[43m(\u001b[49m\u001b[43mnrows\u001b[49m\u001b[43m)\u001b[49m\n\u001b[1;32m    235\u001b[0m         \u001b[38;5;66;03m# destructive to chunks\u001b[39;00m\n\u001b[1;32m    236\u001b[0m         data \u001b[38;5;241m=\u001b[39m _concatenate_chunks(chunks)\n",
      "File \u001b[0;32mparsers.pyx:838\u001b[0m, in \u001b[0;36mpandas._libs.parsers.TextReader.read_low_memory\u001b[0;34m()\u001b[0m\n",
      "File \u001b[0;32mparsers.pyx:905\u001b[0m, in \u001b[0;36mpandas._libs.parsers.TextReader._read_rows\u001b[0;34m()\u001b[0m\n",
      "File \u001b[0;32mparsers.pyx:874\u001b[0m, in \u001b[0;36mpandas._libs.parsers.TextReader._tokenize_rows\u001b[0;34m()\u001b[0m\n",
      "File \u001b[0;32mparsers.pyx:891\u001b[0m, in \u001b[0;36mpandas._libs.parsers.TextReader._check_tokenize_status\u001b[0;34m()\u001b[0m\n",
      "File \u001b[0;32mparsers.pyx:2061\u001b[0m, in \u001b[0;36mpandas._libs.parsers.raise_parser_error\u001b[0;34m()\u001b[0m\n",
      "\u001b[0;31mParserError\u001b[0m: Error tokenizing data. C error: Expected 1 fields in line 3, saw 2473\n"
     ]
    }
   ],
   "source": [
    "# I added the LA data from 2024 and 2025 into the googledrive, but I couldn't get python to read directly from there \n",
    "# this didn't work, but it was an attempt to link to the LA data directly in the googledrive\n",
    "# la_2023_data = pd.read_csv(\"https://drive.google.com/file/d/1sYTIXIV4xvdgLW2NS-_Mrl72aPd7-VzA/view?usp=drive_link\")\n",
    "\n",
    "# la_2024_data = pd.read_csv(\"https://drive.google.com/file/d/161juFILT8fKc2bs_Yc0dy3GcIdexPhFV/view?usp=drive_link\")\n",
    "\n",
    "# la_2025_data = pd.read_csv(\"https://drive.google.com/file/d/16ODnCEXB52xv096EHZC3HgLmvwSO0kA9/view?usp=drive_link\")"
   ]
  },
  {
   "cell_type": "code",
   "execution_count": null,
   "metadata": {},
   "outputs": [],
   "source": []
  },
  {
   "cell_type": "code",
   "execution_count": 30,
   "metadata": {},
   "outputs": [
    {
     "name": "stderr",
     "output_type": "stream",
     "text": [
      "/var/folders/qn/3hvcww9502g74l5vkvzrjfc00000gn/T/ipykernel_18055/189725136.py:1: DtypeWarning: Columns (21,25) have mixed types. Specify dtype option on import or set low_memory=False.\n",
      "  full_file = pd.read_csv(\"~/code/data/MyLA311_Service_Request_Data_2023_20250116.csv\")\n"
     ]
    }
   ],
   "source": [
    "full_file = pd.read_csv(\"~/code/data/MyLA311_Service_Request_Data_2023_20250116.csv\")"
   ]
  },
  {
   "cell_type": "code",
   "execution_count": 32,
   "metadata": {},
   "outputs": [
    {
     "name": "stderr",
     "output_type": "stream",
     "text": [
      "/var/folders/qn/3hvcww9502g74l5vkvzrjfc00000gn/T/ipykernel_18055/1672317968.py:1: DtypeWarning: Columns (21) have mixed types. Specify dtype option on import or set low_memory=False.\n",
      "  la_311_2024 = pd.read_csv(\"~/code/data/MyLA311_Data_2024_20250128.csv\")\n"
     ]
    }
   ],
   "source": [
    "la_311_2024 = pd.read_csv(\"~/code/data/MyLA311_Data_2024_20250128.csv\")\n",
    "la_311_2025 = pd.read_csv(\"~/code/data/MyLA311_Data_2025_20250128.csv\")"
   ]
  },
  {
   "cell_type": "code",
   "execution_count": 21,
   "metadata": {},
   "outputs": [],
   "source": [
    "# the errors are in field 21 (address) and 25 (suffix) - both are supposed to be text"
   ]
  },
  {
   "cell_type": "code",
   "execution_count": null,
   "metadata": {},
   "outputs": [],
   "source": [
    "last_100K_reader.tail(8)"
   ]
  },
  {
   "cell_type": "code",
   "execution_count": 31,
   "metadata": {},
   "outputs": [
    {
     "data": {
      "text/plain": [
       "RequestType\n",
       "Bulky Items                   623148\n",
       "Graffiti Removal              326865\n",
       "Metal/Household Appliances    113369\n",
       "Illegal Dumping Pickup         95732\n",
       "Homeless Encampment            72351\n",
       "Electronic Waste               38299\n",
       "Dead Animal Removal            29397\n",
       "Multiple Streetlight Issue     16728\n",
       "Single Streetlight Issue       15529\n",
       "Other                          10971\n",
       "Report Water Waste              2177\n",
       "Feedback                         724\n",
       "Name: count, dtype: int64"
      ]
     },
     "execution_count": 31,
     "metadata": {},
     "output_type": "execute_result"
    }
   ],
   "source": [
    "# value counts for 2023\n",
    "full_file[\"RequestType\"].value_counts()"
   ]
  },
  {
   "cell_type": "code",
   "execution_count": 34,
   "metadata": {},
   "outputs": [
    {
     "data": {
      "text/plain": [
       "RequestType\n",
       "Bulky Items                   674508\n",
       "Graffiti Removal              317372\n",
       "Metal/Household Appliances    119096\n",
       "Illegal Dumping Pickup        114268\n",
       "Homeless Encampment            85992\n",
       "Electronic Waste               39579\n",
       "Dead Animal Removal            32398\n",
       "Multiple Streetlight Issue     10115\n",
       "Other                          10019\n",
       "Single Streetlight Issue        9031\n",
       "Report Water Waste              1685\n",
       "Feedback                        1226\n",
       "Name: count, dtype: int64"
      ]
     },
     "execution_count": 34,
     "metadata": {},
     "output_type": "execute_result"
    }
   ],
   "source": [
    "# value counts for 2024\n",
    "la_311_2024[\"RequestType\"].value_counts()"
   ]
  },
  {
   "cell_type": "code",
   "execution_count": 35,
   "metadata": {},
   "outputs": [
    {
     "data": {
      "text/plain": [
       "RequestType\n",
       "Bulky Items                   54109\n",
       "Graffiti Removal              23216\n",
       "Illegal Dumping Pickup         9570\n",
       "Metal/Household Appliances     7778\n",
       "Homeless Encampment            6086\n",
       "Electronic Waste               2976\n",
       "Dead Animal Removal            1733\n",
       "Other                           896\n",
       "Report Water Waste              129\n",
       "Feedback                        108\n",
       "Name: count, dtype: int64"
      ]
     },
     "execution_count": 35,
     "metadata": {},
     "output_type": "execute_result"
    }
   ],
   "source": [
    "# value counts for 2025\n",
    "# la_311_2025[\"RequestType\"].value_counts()  "
   ]
  }
 ],
 "metadata": {
  "kernelspec": {
   "display_name": ".venv",
   "language": "python",
   "name": "python3"
  },
  "language_info": {
   "codemirror_mode": {
    "name": "ipython",
    "version": 3
   },
   "file_extension": ".py",
   "mimetype": "text/x-python",
   "name": "python",
   "nbconvert_exporter": "python",
   "pygments_lexer": "ipython3",
   "version": "3.12.8"
  }
 },
 "nbformat": 4,
 "nbformat_minor": 2
}
